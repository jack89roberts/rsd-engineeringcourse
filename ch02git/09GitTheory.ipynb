{
 "cells": [
  {
   "cell_type": "markdown",
   "metadata": {},
   "source": [
    "## Git Theory\n",
    "\n",
    "### The revision Graph\n",
    "\n",
    "Revisions form a **GRAPH**"
   ]
  },
  {
   "cell_type": "code",
   "execution_count": 1,
   "metadata": {},
   "outputs": [
    {
     "ename": "FileNotFoundError",
     "evalue": "[Errno 2] No such file or directory: '/Users/jroberts/GitHub/rsd-engineeringcourse/ch02git/learning_git/git_example'",
     "output_type": "error",
     "traceback": [
      "\u001b[0;31m---------------------------------------------------------------------------\u001b[0m",
      "\u001b[0;31mFileNotFoundError\u001b[0m                         Traceback (most recent call last)",
      "\u001b[0;32m<ipython-input-1-b987f32b3456>\u001b[0m in \u001b[0;36m<module>\u001b[0;34m\u001b[0m\n\u001b[1;32m      3\u001b[0m \u001b[0mgit_dir\u001b[0m \u001b[0;34m=\u001b[0m \u001b[0mos\u001b[0m\u001b[0;34m.\u001b[0m\u001b[0mpath\u001b[0m\u001b[0;34m.\u001b[0m\u001b[0mjoin\u001b[0m\u001b[0;34m(\u001b[0m\u001b[0mtop_dir\u001b[0m\u001b[0;34m,\u001b[0m \u001b[0;34m'learning_git'\u001b[0m\u001b[0;34m)\u001b[0m\u001b[0;34m\u001b[0m\u001b[0;34m\u001b[0m\u001b[0m\n\u001b[1;32m      4\u001b[0m \u001b[0mworking_dir\u001b[0m\u001b[0;34m=\u001b[0m\u001b[0mos\u001b[0m\u001b[0;34m.\u001b[0m\u001b[0mpath\u001b[0m\u001b[0;34m.\u001b[0m\u001b[0mjoin\u001b[0m\u001b[0;34m(\u001b[0m\u001b[0mgit_dir\u001b[0m\u001b[0;34m,\u001b[0m \u001b[0;34m'git_example'\u001b[0m\u001b[0;34m)\u001b[0m\u001b[0;34m\u001b[0m\u001b[0;34m\u001b[0m\u001b[0m\n\u001b[0;32m----> 5\u001b[0;31m \u001b[0mos\u001b[0m\u001b[0;34m.\u001b[0m\u001b[0mchdir\u001b[0m\u001b[0;34m(\u001b[0m\u001b[0mworking_dir\u001b[0m\u001b[0;34m)\u001b[0m\u001b[0;34m\u001b[0m\u001b[0;34m\u001b[0m\u001b[0m\n\u001b[0m",
      "\u001b[0;31mFileNotFoundError\u001b[0m: [Errno 2] No such file or directory: '/Users/jroberts/GitHub/rsd-engineeringcourse/ch02git/learning_git/git_example'"
     ]
    }
   ],
   "source": [
    "import os\n",
    "top_dir = os.getcwd()\n",
    "git_dir = os.path.join(top_dir, 'learning_git')\n",
    "working_dir=os.path.join(git_dir, 'git_example')\n",
    "os.chdir(working_dir)"
   ]
  },
  {
   "cell_type": "code",
   "execution_count": 2,
   "metadata": {},
   "outputs": [
    {
     "name": "stdout",
     "output_type": "stream",
     "text": [
      "*   9a593c0 Merge pull request #8 from jack89roberts/master\n",
      "|\\  \n",
      "| * bd8c86e Fix typo: Suuplementary -> Supplementary\n",
      "| * 79fd770 Fix missing outputs in a few cells\n",
      "| *   3793448 Merge branch 'fix-nbconvert-version' into master\n",
      "| |\\  \n",
      "| * | 96a4925 Fixes to Research Data in Python lesson\n",
      "* | | db7e4f9 Change email in Travis config to hut23\n",
      "* | |   5521eb2 Merge pull request #9 from jack89roberts/fix-nbconvert-version\n",
      "|\\ \\ \\  \n",
      "| |/ /  \n",
      "|/| /   \n",
      "| |/    \n",
      "| * c2cb18c Upgrade numpy version to avoid matplotlib runtime error\n",
      "| * 15ae54c Set nbconvert version to be below v6\n",
      "|/  \n",
      "*   5af9179 Merge pull request #6 from alan-turing-institute/minor-text-fixes\n",
      "|\\  \n",
      "| * 01a5ffc Removed extra spaces\n",
      "| * c07c303 Removed extra spaces\n",
      "| * fe7117c Elaborated on Python2 vs Python3 changes\n",
      "| * 807e7c0 Fix typo in James' name\n",
      "| * 22a49f4 Fixed missing bracket\n",
      "|/  \n",
      "* 112d970 Modify geocoder settings for 2019 delivery\n",
      "* 8598b99 Change install instruction to Anaconda.\n",
      "* dbe0a76 Turn off the PDF build for now to get this building again\n",
      "* f4574bc Add a tex package to fix the build\n",
      "* 8f733bc Update index.md\n",
      "* 7c457ea Update index.md\n",
      "*   46dd2ca Merge branch 'master' of https://github.com/alan-turing-institute/rsd-engineeringcourse\n",
      "|\\  \n",
      "| * 40fae49 Use -inf correctly for reduce example\n",
      "| *   7e8a9c1 Merge branch 'master' of github.com:alan-turing-institute/rsd-engineeringcourse\n",
      "| |\\  \n",
      "| * \\   46fbb1e Merge branch 'master' of github.com:alan-turing-institute/rsd-engineeringcourse\n",
      "| |\\ \\  \n",
      "| * \\ \\   fd7cdba Merge branch 'master' of github.com:alan-turing-institute/rsd-engineeringcourse\n",
      "| |\\ \\ \\  \n",
      "| * | | | 6853baf Fix classes bug thanks to @hhau\n",
      "* | | | | e5d6ac0 updated reqs\n",
      "| |_|_|/  \n",
      "|/| | |   \n",
      "* | | | 78e338f removed old 050Operators\n",
      "* | | | 681d413 merging classes 5,7,8 from UCL\n",
      "* | | | 6c99e20 update schedule\n",
      "| |_|/  \n",
      "|/| |   \n",
      "* | | da23a22 fix to requirements\n",
      "* | | 421ff20 pulled ch05 from UCL\n",
      "* | | 91f1f59 updated schedule\n",
      "| |/  \n",
      "|/|   \n",
      "* | 0abdab7 requirements\n",
      "* | ad5ea5d checked ch04\n",
      "* | c6bd2ae Notes from local\n",
      "* | eafebb6 fix in stashing code to avoid keys getting public\n",
      "* | fd36989 update to schedule\n",
      "* | 9beb9c7 removed ref to UCL class\n",
      "* | 120555e auth, messy auth\n",
      "* | 0a40b95 auth, messy auth\n",
      "* | c692086 fixing auth still\n",
      "|/  \n",
      "* ccf8dd8 git auth hopefully fixed\n",
      "* ccad62f auth\n",
      "* a61e0b9 auth\n",
      "* 3118652 auth\n",
      "* 345f358 auth\n",
      "* 6b8044d auth\n",
      "* 1e33f2c auth\n",
      "* 5942cae git auth\n",
      "* eb32fc3 git auth\n",
      "* 36d381b git auth\n",
      "* 27ae7be fix ch02\n",
      "* 26e80a0 fix 02\n",
      "* 49d97ff updated and checked weeks 2 to 4\n",
      "* eac3f2f updated schedule\n",
      "* fc73f61 lesson 1 checked\n",
      "* d39e881 minor tweaks to Install\n",
      "* 7c8e554 delete previous folders\n",
      "* dbc617a merging last 2 classes\n",
      "* 77a9e9e new chapters\n",
      "* d6e35c7 added last two classes and updated index\n",
      "* adae052 added assessment\n",
      "* 74f0224 jekyll version making troubles\n",
      "* d3209e8 jekyll version making troubles\n",
      "* 2208e4b added imageio to req\n",
      "* 48c441a dropping UCL crumbs\n",
      "* cbf5478 adding missing packages to req, moving to 3.6\n",
      "* 9c2f115 update jekyll and liquid\n",
      "* 76c3d82 add comment\n",
      "* 5314bb9 typo\n",
      "* 0086e45 first commit\n"
     ]
    }
   ],
   "source": [
    "%%bash\n",
    "git log --graph --oneline"
   ]
  },
  {
   "cell_type": "markdown",
   "metadata": {},
   "source": [
    "### Git concepts\n",
    "\n",
    "* Each revision has a parent that it is based on\n",
    "* These revisions form a graph\n",
    "* Each revision has a unique hash code\n",
    "  * In Sue's copy, revision 43 is ab3578d6\n",
    "  * Jim might think that is revision 38, but it's still ab3579d6\n",
    "* Branches, tags, and HEAD are *labels* pointing at revisions\n",
    "* Some operations (like fast forward merges) just move labels."
   ]
  },
  {
   "cell_type": "markdown",
   "metadata": {},
   "source": [
    "### The levels of Git"
   ]
  },
  {
   "cell_type": "markdown",
   "metadata": {},
   "source": [
    "There are four **Separate** levels a change can reach in git:"
   ]
  },
  {
   "cell_type": "markdown",
   "metadata": {},
   "source": [
    "* The Working Copy\n",
    "* The **index** (aka **staging area**)\n",
    "* The local repository\n",
    "* The remote repository"
   ]
  },
  {
   "cell_type": "markdown",
   "metadata": {},
   "source": [
    "Understanding all the things `git reset` can do requires a good\n",
    "grasp of git theory."
   ]
  },
  {
   "cell_type": "markdown",
   "metadata": {
    "collapsed": true
   },
   "source": [
    "* `git reset <commit> <filename>` : Reset index and working version of that file to the version in a given commit\n",
    "* `git reset --soft <commit>`: Move local repository branch label to that commit, leave working dir and index unchanged\n",
    "* `git reset <commit>`: Move local repository and index to commit (\"--mixed\")\n",
    "* `git reset --hard <commit>`: Move local repostiory, index, and working directory copy to that state"
   ]
  }
 ],
 "metadata": {
  "jekyll": {
   "display_name": "Git Theory"
  },
  "kernelspec": {
   "display_name": "Python 3",
   "language": "python",
   "name": "python3"
  },
  "language_info": {
   "codemirror_mode": {
    "name": "ipython",
    "version": 3
   },
   "file_extension": ".py",
   "mimetype": "text/x-python",
   "name": "python",
   "nbconvert_exporter": "python",
   "pygments_lexer": "ipython3",
   "version": "3.8.6"
  }
 },
 "nbformat": 4,
 "nbformat_minor": 1
}
